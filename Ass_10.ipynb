{
 "cells": [
  {
   "cell_type": "markdown",
   "metadata": {},
   "source": [
    "Question 3"
   ]
  },
  {
   "cell_type": "code",
   "execution_count": 12,
   "metadata": {},
   "outputs": [],
   "source": [
    "from math import e\n",
    "import numpy as np\n",
    "import pandas as pd\n",
    "import matplotlib.pyplot as plt\n",
    "from matplotlib.pyplot import figure\n",
    "import random\n",
    "from scipy.ndimage import measurements as me\n",
    "\n",
    "#fix this to be more like my stuff, not just julias\n",
    "\n",
    "n = 32\n",
    "space = np.zeros((n,n))\n",
    "probability = np.zeros((n,n))\n",
    "available_locations = []\n",
    "for i in range(space.shape[0]):\n",
    "    for j in range(space.shape[1]):\n",
    "        probability_of_spark = e**((-i+1)/(n/10))*e**((-j+1)/(n/10)) \n",
    "        probability[i][j] = probability_of_spark\n",
    "        available_locations.append([i,j])\n",
    "all_tree_yields = []\n",
    "tree_spots = []\n",
    "list_of_trees_added = []\n",
    "d = n*n\n",
    "grid_yield_list = []\n",
    "density = []\n",
    "forest = space\n",
    "for tree_placement in range(n*n):\n",
    "    dict = {}\n",
    "    decider = []\n",
    "    choice_list = []\n",
    "    for num in range(d):\n",
    "        if (len(available_locations)>=2):\n",
    "            random_choice = random.choice(available_locations)\n",
    "            while random_choice in choice_list:\n",
    "                random_choice = random.choice(available_locations)\n",
    "            choice_list.append(random.choice(available_locations))\n",
    "            holder_list_of_trees_added = list_of_trees_added\n",
    "            holder_list_of_trees_added.append(random_choice)\n",
    "            spark_probability = probability[random_choice[0]][random_choice[1]]\n",
    "            forest_holder = forest\n",
    "            forest_holder[random_choice[0],random_choice[1]] = 1\n",
    "            labeled_matrix,number_of_clusters = me.label(forest_holder)\n",
    "            freq = {}\n",
    "            burn_prob = {}\n",
    "            total_danger = {}   \n",
    "            for x in range(1,labeled_matrix.shape[0]):\n",
    "                for y in range(1,labeled_matrix.shape[1]):\n",
    "                    if(labeled_matrix[x][y]!=0):\n",
    "                        if labeled_matrix[x][y] in freq:\n",
    "                            burn_prob[labeled_matrix[x][y]] += probability[x][y]\n",
    "                            freq[labeled_matrix[x][y]] += 1\n",
    "                        else:\n",
    "                            burn_prob[labeled_matrix[x][y]] = probability[x][y]\n",
    "                            freq[labeled_matrix[x][y]]=1\n",
    "                        total_danger[labeled_matrix[x][y]] = burn_prob[labeled_matrix[x][y]] * freq[labeled_matrix[x][y]]\n",
    "            trees_lost = sum(total_danger.values())\n",
    "            total_trees = len(list_of_trees_added)\n",
    "            if (trees_lost>total_trees):\n",
    "                grid_yield = 0\n",
    "            else: \n",
    "                grid_yield = total_trees - trees_lost\n",
    "            decider.append(grid_yield)\n",
    "        else: break\n",
    "    if(len(available_locations)<=2):\n",
    "        break\n",
    "    #print(choice_list)   \n",
    "    #print(decider)\n",
    "    max_grid_yield_selection = choice_list[decider.index(max(decider))]\n",
    "    #print(max_grid_yield_selection)\n",
    "    \n",
    "    list_of_trees_added.append(max_grid_yield_selection)\n",
    "    spark_probability = probability[max_grid_yield_selection[0]][max_grid_yield_selection[1]]\n",
    "    forest = space\n",
    "    forest[max_grid_yield_selection[0],max_grid_yield_selection[1]] = 1\n",
    "    labeled_matrix,number_of_clusters = me.label(forest)\n",
    "    \n",
    "    freq = {}\n",
    "    burn_prob = {}\n",
    "    total_danger = {}   \n",
    "    for x in range(1,labeled_matrix.shape[0]):\n",
    "        for y in range(1,labeled_matrix.shape[1]):\n",
    "            if(labeled_matrix[x][y]!=0):\n",
    "                if labeled_matrix[x][y] in freq:\n",
    "                    burn_prob[labeled_matrix[x][y]] += probability[x][y]\n",
    "                    freq[labeled_matrix[x][y]] += 1\n",
    "                else:\n",
    "                    burn_prob[labeled_matrix[x][y]] = probability[x][y]\n",
    "                    freq[labeled_matrix[x][y]]=1\n",
    "                total_danger[labeled_matrix[x][y]] = burn_prob[labeled_matrix[x][y]] * freq[labeled_matrix[x][y]]\n",
    "    trees_lost = sum(total_danger.values())\n",
    "    total_trees = len(list_of_trees_added)\n",
    "    density_single = total_trees/(n*n)\n",
    "    if (density_single > 1):\n",
    "        break\n",
    "    density.append(density_single)\n",
    "\n",
    "    if (trees_lost>total_trees):\n",
    "        grid_yield = 0\n",
    "    else: \n",
    "        grid_yield = total_trees - trees_lost\n",
    "        \n",
    "    grid_yield_list.append(grid_yield)\n",
    "    #plt.imshow(forest,origin = 'lower')\n",
    "    #plt.show()\n",
    "    available_locations.remove(max_grid_yield_selection)"
   ]
  },
  {
   "cell_type": "code",
   "execution_count": 13,
   "metadata": {},
   "outputs": [
    {
     "data": {
      "image/png": "[encoded data removed]",
      "text/plain": [
       "<Figure size 1080x864 with 1 Axes>"
      ]
     },
     "metadata": {
      "needs_background": "light"
     },
     "output_type": "display_data"
    }
   ],
   "source": [
    "plt.figure(figsize = (15,12))\n",
    "plt.plot(density,grid_yield_list)\n",
    "plt.show()"
   ]
  },
  {
   "cell_type": "code",
   "execution_count": 14,
   "metadata": {},
   "outputs": [
    {
     "ename": "ValueError",
     "evalue": "max() arg is an empty sequence",
     "output_type": "error",
     "traceback": [
      "\u001b[0;31m---------------------------------------------------------------------------\u001b[0m",
      "\u001b[0;31mValueError\u001b[0m                                Traceback (most recent call last)",
      "\u001b[0;32m<ipython-input-14-ea7d3a28d3cd>\u001b[0m in \u001b[0;36m<module>\u001b[0;34m\u001b[0m\n\u001b[0;32m----> 1\u001b[0;31m \u001b[0mmax_yield\u001b[0m \u001b[0;34m=\u001b[0m \u001b[0mmax\u001b[0m\u001b[0;34m(\u001b[0m\u001b[0mgrid_yield_list\u001b[0m\u001b[0;34m)\u001b[0m\u001b[0;34m\u001b[0m\u001b[0;34m\u001b[0m\u001b[0m\n\u001b[0m\u001b[1;32m      2\u001b[0m \u001b[0mprint\u001b[0m\u001b[0;34m(\u001b[0m\u001b[0mmax_yield\u001b[0m\u001b[0;34m)\u001b[0m\u001b[0;34m\u001b[0m\u001b[0;34m\u001b[0m\u001b[0m\n\u001b[1;32m      3\u001b[0m \u001b[0mindex\u001b[0m \u001b[0;34m=\u001b[0m \u001b[0mgrid_yield_list\u001b[0m\u001b[0;34m.\u001b[0m\u001b[0mindex\u001b[0m\u001b[0;34m(\u001b[0m\u001b[0mmax_yield\u001b[0m\u001b[0;34m)\u001b[0m\u001b[0;34m\u001b[0m\u001b[0;34m\u001b[0m\u001b[0m\n\u001b[1;32m      4\u001b[0m \u001b[0mprint\u001b[0m\u001b[0;34m(\u001b[0m\u001b[0mindex\u001b[0m\u001b[0;34m)\u001b[0m\u001b[0;34m\u001b[0m\u001b[0;34m\u001b[0m\u001b[0m\n",
      "\u001b[0;31mValueError\u001b[0m: max() arg is an empty sequence"
     ]
    }
   ],
   "source": [
    "max_yield = max(grid_yield_list)\n",
    "print(max_yield)\n",
    "index = grid_yield_list.index(max_yield)\n",
    "print(index)"
   ]
  },
  {
   "cell_type": "code",
   "execution_count": null,
   "metadata": {},
   "outputs": [],
   "source": [
    "new_space = np.zeros((n,n))\n",
    "for x in range(index):\n",
    "    coordinates = list_of_trees_added[x]\n",
    "    new_space[coordinates[0]][coordinates[1]] = 1\n",
    "plt.figure(figsize = (15,12))\n",
    "plt.title('D=L^2, L=32')\n",
    "plt.imshow(new_space,origin = 'lower')\n",
    "plt.show()\n"
   ]
  },
  {
   "cell_type": "code",
   "execution_count": null,
   "metadata": {},
   "outputs": [],
   "source": []
  }
 ],
 "metadata": {
  "kernelspec": {
   "display_name": "Python 3",
   "language": "python",
   "name": "python3"
  },
  "language_info": {
   "codemirror_mode": {
    "name": "ipython",
    "version": 3
   },
   "file_extension": ".py",
   "mimetype": "text/x-python",
   "name": "python",
   "nbconvert_exporter": "python",
   "pygments_lexer": "ipython3",
   "version": "3.8.5"
  }
 },
 "nbformat": 4,
 "nbformat_minor": 4
}
