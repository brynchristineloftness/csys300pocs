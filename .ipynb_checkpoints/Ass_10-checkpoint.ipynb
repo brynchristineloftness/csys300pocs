{
 "cells": [
  {
   "cell_type": "markdown",
   "metadata": {},
   "source": [
    "Question 3"
   ]
  },
  {
   "cell_type": "code",
   "execution_count": 77,
   "metadata": {},
   "outputs": [
    {
     "ename": "TypeError",
     "evalue": "list indices must be integers or slices, not numpy.float64",
     "output_type": "error",
     "traceback": [
      "\u001b[0;31m---------------------------------------------------------------------------\u001b[0m",
      "\u001b[0;31mTypeError\u001b[0m                                 Traceback (most recent call last)",
      "\u001b[0;32m<ipython-input-77-df118d8424a9>\u001b[0m in \u001b[0;36m<module>\u001b[0;34m\u001b[0m\n\u001b[1;32m     30\u001b[0m     \u001b[0msize_of_forest\u001b[0m \u001b[0;34m=\u001b[0m \u001b[0msum\u001b[0m\u001b[0;34m(\u001b[0m\u001b[0msum\u001b[0m\u001b[0;34m(\u001b[0m\u001b[0mforest\u001b[0m\u001b[0;34m)\u001b[0m\u001b[0;34m)\u001b[0m\u001b[0;34m\u001b[0m\u001b[0;34m\u001b[0m\u001b[0m\n\u001b[1;32m     31\u001b[0m     \u001b[0msingle_yield\u001b[0m \u001b[0;34m=\u001b[0m \u001b[0mnormalized_spark_prob\u001b[0m \u001b[0;34m*\u001b[0m \u001b[0;34m(\u001b[0m\u001b[0mcluster_size\u001b[0m\u001b[0;34m/\u001b[0m\u001b[0msize_of_forest\u001b[0m\u001b[0;34m)\u001b[0m\u001b[0;34m\u001b[0m\u001b[0;34m\u001b[0m\u001b[0m\n\u001b[0;32m---> 32\u001b[0;31m     \u001b[0mtree_spots\u001b[0m\u001b[0;34m[\u001b[0m\u001b[0msingle_yield\u001b[0m\u001b[0;34m]\u001b[0m \u001b[0;34m=\u001b[0m \u001b[0mrandom_choice\u001b[0m\u001b[0;34m\u001b[0m\u001b[0;34m\u001b[0m\u001b[0m\n\u001b[0m\u001b[1;32m     33\u001b[0m     \u001b[0mall_tree_yields\u001b[0m\u001b[0;34m.\u001b[0m\u001b[0mappend\u001b[0m\u001b[0;34m(\u001b[0m\u001b[0msingle_yield\u001b[0m\u001b[0;34m)\u001b[0m\u001b[0;34m\u001b[0m\u001b[0;34m\u001b[0m\u001b[0m\n\u001b[1;32m     34\u001b[0m     \u001b[0mspark\u001b[0m \u001b[0;34m=\u001b[0m \u001b[0mnp\u001b[0m\u001b[0;34m.\u001b[0m\u001b[0mrandom\u001b[0m\u001b[0;34m.\u001b[0m\u001b[0mrand\u001b[0m\u001b[0;34m(\u001b[0m\u001b[0;34m)\u001b[0m\u001b[0;34m\u001b[0m\u001b[0;34m\u001b[0m\u001b[0m\n",
      "\u001b[0;31mTypeError\u001b[0m: list indices must be integers or slices, not numpy.float64"
     ]
    }
   ],
   "source": [
    "from math import e\n",
    "import numpy as np\n",
    "import pandas as pd\n",
    "import matplotlib.pyplot as plt\n",
    "from matplotlib.pyplot import figure\n",
    "import random\n",
    "from scipy.ndimage import measurements as me\n",
    "\n",
    "#fix this to be more like my stuff, not just julias\n",
    "\n",
    "n = 32\n",
    "space = np.zeros((n,n))\n",
    "probability = np.zeros((n,n))\n",
    "available_locations = []\n",
    "for i in range(1,space.shape[0]):\n",
    "    for j in range(1,space.shape[1]):\n",
    "        probability_of_spark = e**((-i+1)/(n/10))*e**((-j+1)/(n/10)) \n",
    "        probability[i][j] = probability_of_spark\n",
    "        available_locations.append([i,j])\n",
    "all_tree_yields = []\n",
    "tree_spots = []\n",
    "d = 100\n",
    "for num in range(d):\n",
    "    random_choice = random.choice(available_locations)\n",
    "    spark_probability = probability[random_choice[0]][random_choice[1]]\n",
    "    space_of_rand_possibilities = np.random.rand(n,n)\n",
    "    forest = space\n",
    "    forest[random_choice[0],random_choice[1]] = 1\n",
    "    labeled_matrix,number_of_clusters = me.label(forest)\n",
    "    cluster_size = len(np.where(labeled_matrix == labeled_matrix[random_choice[0]][random_choice[1]])[0])\n",
    "    size_of_forest = sum(sum(forest))\n",
    "    single_yield = normalized_spark_prob * (cluster_size/size_of_forest)\n",
    "    tree_spots[single_yield] = random_choice\n",
    "    all_tree_yields.append(single_yield)\n",
    "    spark = np.random.rand()\n",
    "    if spark < spark_probability:\n",
    "        best_spot = tree_spots[min(all_tree_yields)]\n",
    "        forest[best_spot[0],best_spot[1]] = 1\n",
    "    else:\n",
    "        pass\n",
    "plt.imshow(forest)"
   ]
  },
  {
   "cell_type": "code",
   "execution_count": null,
   "metadata": {},
   "outputs": [],
   "source": []
  }
 ],
 "metadata": {
  "kernelspec": {
   "display_name": "Python 3",
   "language": "python",
   "name": "python3"
  },
  "language_info": {
   "codemirror_mode": {
    "name": "ipython",
    "version": 3
   },
   "file_extension": ".py",
   "mimetype": "text/x-python",
   "name": "python",
   "nbconvert_exporter": "python",
   "pygments_lexer": "ipython3",
   "version": "3.8.5"
  }
 },
 "nbformat": 4,
 "nbformat_minor": 4
}
