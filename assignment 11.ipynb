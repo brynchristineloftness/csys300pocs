{
 "cells": [
  {
   "cell_type": "code",
   "execution_count": 4,
   "metadata": {},
   "outputs": [],
   "source": [
    "import igraph as ig\n",
    "import numpy as np\n",
    "import pandas as pd\n",
    "import seaborn as sns\n",
    "import matplotlib.pyplot as plt"
   ]
  },
  {
   "cell_type": "code",
   "execution_count": 11,
   "metadata": {},
   "outputs": [],
   "source": [
    "n = 1000\n",
    "k = 10\n",
    "p_list = 10 ** np.linspace(-4,0,14)\n",
    "iterations = 20\n",
    "rg = ig.Graph.Watts_Strogatz(1,n,k,0.0)\n",
    "r_avg_shortest = np.mean(rg.shortest_paths())\n",
    "r_clustering_coefficient = rg.transitivity_avglocal_undirected()\n",
    "\n",
    "Ls = []\n",
    "Cs = []\n",
    "for p in p_list:\n",
    "    a_s = []\n",
    "    c_e = []\n",
    "    for i in range (0,iterations):\n",
    "        g = ig.Graph.Watts_Strogatz(1,n,k,p)\n",
    "        avg_shortest = np.mean(g.shortest_paths())\n",
    "        clustering_coefficient = g.transitivity_avglocal_undirected()\n",
    "        a_s.append(avg_shortest)\n",
    "        c_e.append(clustering_coefficient)\n",
    "    Ls.append(np.median(a_s)/r_avg_shortest)\n",
    "    Cs.append(np.median(c_e)/r_clustering_coefficient)"
   ]
  },
  {
   "cell_type": "code",
   "execution_count": 12,
   "metadata": {},
   "outputs": [
    {
     "name": "stdout",
     "output_type": "stream",
     "text": [
      "    $L(p)/L(0)$  $C(p)/C(0)$         p\n",
      "0      0.743512     0.999467  0.000100\n",
      "1      0.581151     0.998827  0.000203\n",
      "2      0.473797     0.997810  0.000412\n",
      "3      0.342856     0.995378  0.000838\n",
      "4      0.260895     0.990245  0.001701\n",
      "5      0.214943     0.980843  0.003455\n",
      "6      0.179564     0.959572  0.007017\n",
      "7      0.155829     0.919246  0.014251\n",
      "8      0.137260     0.841953  0.028943\n",
      "9      0.124052     0.705241  0.058780\n",
      "10     0.113285     0.475192  0.119378\n",
      "11     0.106861     0.205512  0.242446\n",
      "12     0.103899     0.043150  0.492388\n",
      "13     0.103595     0.028062  1.000000\n"
     ]
    },
    {
     "data": {
      "image/png": "[encoded data removed]",
      "text/plain": [
       "<Figure size 432x288 with 1 Axes>"
      ]
     },
     "metadata": {
      "needs_background": "light"
     },
     "output_type": "display_data"
    }
   ],
   "source": [
    "df = pd.DataFrame(data = {\"$L(p)/L(0)$\": Ls, \"$C(p)/C(0)$\": Cs, \"p\": p_list})\n",
    "print(df)\n",
    "df = df.melt(id_vars = ['p'],value_vars = ['$L(p)/L(0)$',\"$C(p)/C(0)$\"])\n",
    "sns.scatterplot(data = df,x = \"p\", y = \"value\", hue = \"variable\")\n",
    "plt.xscale('log')\n",
    "plt.show()"
   ]
  },
  {
   "cell_type": "code",
   "execution_count": null,
   "metadata": {},
   "outputs": [],
   "source": []
  }
 ],
 "metadata": {
  "kernelspec": {
   "display_name": "Python 3",
   "language": "python",
   "name": "python3"
  },
  "language_info": {
   "codemirror_mode": {
    "name": "ipython",
    "version": 3
   },
   "file_extension": ".py",
   "mimetype": "text/x-python",
   "name": "python",
   "nbconvert_exporter": "python",
   "pygments_lexer": "ipython3",
   "version": "3.8.5"
  }
 },
 "nbformat": 4,
 "nbformat_minor": 4
}
